{
 "cells": [
  {
   "cell_type": "markdown",
   "metadata": {},
   "source": [
    "Paridade de números por funções lambda\n",
    "Em programação, temos que pensar não apenas na implementação do código propriamente dita para execução correta da tarefa desejada, como também na melhor forma de realizar esta implementação. Com isso, paradigmas de programação foram criados para auxiliar o programador a pensar diferente.\n",
    "\n",
    "Um desses paradigmas é a programação funcional, cujo objetivo é aumentar o determinismo do programa de forma que, caso o programa seja escalável e se torne muito grande, os desenvolvedores não percam o controle do código. Uma forma de fazer programação funcional é por meio de funções lambdas, também conhecidas como \"funções anônimas\", tendo esse nome porque não precisam ser declaradas com um nome.\n",
    "\n",
    "Sabendo disso, crie uma função div2() que recebe uma lista numérica e utiliza uma função lambda para retornar uma lista apenas com elementos da lista original que sejam divisíveis por 2.\n",
    "\n",
    "OBS: em um cenário real, a funçãodiv2() seria utilizada para outras funcionalidades também além da utilização da lambda, de forma a melhorar o determinismo do código."
   ]
  },
  {
   "cell_type": "code",
   "execution_count": 1,
   "metadata": {},
   "outputs": [
    {
     "name": "stdout",
     "output_type": "stream",
     "text": [
      "[2, 4, 6, 8]\n"
     ]
    }
   ],
   "source": [
    "def div2(listaA):\n",
    "    try:\n",
    "        divisivel_por_2 = list(\n",
    "            filter(lambda num: isinstance(num, int) and num % 2 == 0, listaA)\n",
    "        )\n",
    "        return divisivel_por_2\n",
    "    except Exception:\n",
    "        return []\n",
    "\n",
    "\n",
    "teste = [1,2,3,4,5,6,7,8]\n",
    "\n",
    "\n",
    "print(div2(teste))"
   ]
  },
  {
   "cell_type": "markdown",
   "metadata": {},
   "source": [
    "Utilizando função lambda para calcular quadrado de números\n",
    "Em programação, temos que pensar não apenas na implementação do código propriamente dita para execução correta da tarefa desejada, como também na melhor forma de realizar esta implementação. Com isso, paradigmas de programação foram criados para auxiliar o programador a pensar diferente.\n",
    "\n",
    "Um desses paradigmas é a programação funcional, cujo objetivo é aumentar o determinismo do programa de forma que, caso o programa seja escalável e se torne muito grande, os desenvolvedores não percam o controle do código. Uma forma de fazer programação funcional é por meio de funções lambdas, também conhecidas como \"funções anônimas\", tendo esse nome porque não precisam ser declaradas com um nome.\n",
    "\n",
    "Sabendo disso, crie uma função calcula_quadrado() que recebe uma lista e retorna os elementos desta lista ao quadrado, utilizando função lambda.\n",
    "\n",
    "OBS: em um cenário real, a função calcula_quadrado() seria utilizada para outras funcionalidades também além da utilização da lambda, de forma a melhorar o determinismo do código.\n",
    "\n",
    "OBS2: recomendável uso da função map."
   ]
  },
  {
   "cell_type": "code",
   "execution_count": 2,
   "metadata": {},
   "outputs": [
    {
     "name": "stdout",
     "output_type": "stream",
     "text": [
      "[4.41, 1, 9, 16, 25, 36]\n"
     ]
    }
   ],
   "source": [
    "def calcula_quadrado(listaA):\n",
    "\n",
    "    try:\n",
    "        calculo_quadrado = list(\n",
    "            map(lambda num: num**2, listaA)\n",
    "        )\n",
    "\n",
    "        return calculo_quadrado\n",
    "    \n",
    "    except Exception:\n",
    "        return []\n",
    "\n",
    "teste = [2.1, 1, 3, 4, 5, 6]\n",
    "print(calcula_quadrado(teste))"
   ]
  },
  {
   "cell_type": "markdown",
   "metadata": {},
   "source": [
    "MapReduce para cálculo de soma dos quadrados\n",
    "Em programação, temos que pensar não apenas na implementação do código propriamente dita para execução correta da tarefa desejada, como também na melhor forma de realizar esta implementação. Com isso, paradigmas de programação foram criados para auxiliar o programador a pensar diferente.\n",
    "\n",
    "Um desses paradigmas é o uso de funções de alta ordem, o que permite que realizemos diversas operações em coleções (listas, tuplas, arrays, etc) sem o uso de loops explicitamente.\n",
    "\n",
    "Um dos usos mais comuns é o uso de funções reduce, responsáveis por acumular uma operação ao longo de uma coleção. Essa função é muito utilizada principalmente em ambientes big data juntamente com a função map.\n",
    "\n",
    "Sabendo disso, crie uma função ger_reduce() que recebe uma lista numérica, e retorna a soma dos quadrados destes números.\n",
    "\n",
    "Obs.: lembre-se que, em Python, devemos importar a função reduce do módulo functools!\n",
    "\n",
    "Resultados\n",
    "Solução\n",
    "\n",
    "Executar\n"
   ]
  },
  {
   "cell_type": "code",
   "execution_count": 4,
   "metadata": {},
   "outputs": [
    {
     "name": "stdout",
     "output_type": "stream",
     "text": [
      "968683\n"
     ]
    }
   ],
   "source": [
    "from functools import reduce\n",
    "\n",
    "def ger_reduce(dictA):\n",
    "\n",
    "    numbers_squared = reduce(\n",
    "\t\tlambda x, y: x + y**2, dictA, 0\n",
    "\t)\n",
    "\n",
    "    return numbers_squared\n",
    "\n",
    "\n",
    "\n",
    "teste = [0,1,2,6,4,9,8,15,984]\n",
    "\n",
    "print(ger_reduce(teste))\n"
   ]
  },
  {
   "cell_type": "markdown",
   "metadata": {},
   "source": [
    "Produto mais vendido no arquivo\n",
    "Comumente precisamos lidar com informações que já foram armazenadas em outros locais antes da execução do programa, como uma planilha do excel, de forma a fazer algum processamento com estas informações. Digamos, por exemplo, que uma empresa tenha armazenado dados sobre as vendas dos últimos 5 anos e queira saber a média anual dessas vendas. Podemos acessar estes dados por meio da leitura de arquivos no python para, posteriormente, realizar o cálculo da média. Similarmente, também podemos salvar informações em arquivos no Python para acesso futuro. Utilizando o mesmo exemplo do histórico de vendas, podemos realizar os cálculos de média anual e salvá-lo em um arquivo para enviar para o gerente de vendas.\n",
    "\n",
    "Sabendo disso, crie uma função produto_mais_vendido() para ler um arquivo csv com as vendas de uma loja e retornar o nome do produto mais vendido (em termos de quantidades de vendas) conforme registrado no arquivo. A função receberá diretamente a string lida de um arquivo csv que usa \", \" como separador. No arquivo, temos as seguintes colunas: data, produto, quantidade, valor."
   ]
  },
  {
   "cell_type": "code",
   "execution_count": 5,
   "metadata": {},
   "outputs": [
    {
     "name": "stdout",
     "output_type": "stream",
     "text": [
      "ProdutoD\n"
     ]
    }
   ],
   "source": [
    "def produto_mais_vendido(vendas):\n",
    "    csv = vendas.split(\"\\n\")\n",
    "\n",
    "    csv = [linha for linha in csv if linha]\n",
    "    \n",
    "    data = csv[1:]\n",
    "\n",
    "    contagem_vendas = {}\n",
    "\n",
    "    for linha in data:\n",
    "        campos = linha.split(\",\")\n",
    "        produto = campos[1].strip()\n",
    "        quantidade = int(campos[2].strip())\n",
    "\n",
    "        if produto in contagem_vendas:\n",
    "            contagem_vendas[produto] += quantidade\n",
    "        else:\n",
    "            contagem_vendas[produto] = quantidade\n",
    "\n",
    "    produto_mais_vendido = max(contagem_vendas, key=contagem_vendas.get)\n",
    "\n",
    "    return produto_mais_vendido\n",
    "\n",
    "def ler_arquivo(nome_arquivo):\n",
    "    with open(nome_arquivo, \"r\") as arquivo:\n",
    "        conteudo = arquivo.read()\n",
    "    return conteudo\n",
    "\n",
    "\n",
    "# teste = \"data, produto, quantidade, valor\\n20/10/2022, prato, 15, 20.00\\n19/10/2022, copo, 5, 5\\n07/07/2022, lampada, 3, 68.90\"\n",
    "teste = ler_arquivo('teste_csv/vendas.csv')\n",
    "print(produto_mais_vendido(teste))  # produtos são iguais, qualquer retorno é válido"
   ]
  },
  {
   "cell_type": "markdown",
   "metadata": {},
   "source": [
    "Dados tabulares como lista de listas\n",
    "Em python, podemos trabalhar com dados tabulares em uma estrutura organizada na forma de lista de listas.\n",
    "Sabendo disso, crie uma função min_max_temperatura() que receba uma lista de listas, cada uma com dois elementos: uma data, e uma temperatura. A função deve retornar uma lista com dois elementos: a data de temperatura máxima, e a data de temperatura mínima, nesta ordem."
   ]
  },
  {
   "cell_type": "code",
   "execution_count": 85,
   "metadata": {},
   "outputs": [
    {
     "data": {
      "text/plain": [
       "['27/11/2022', '29/11/2022']"
      ]
     },
     "execution_count": 85,
     "metadata": {},
     "output_type": "execute_result"
    }
   ],
   "source": [
    "def min_max_temperatura(temperaturas):\n",
    "\n",
    "\ttabela = [temperatura for temperatura in temperaturas]\n",
    "\ttabela = sorted(tabela, key=lambda x: int(x[1]))\n",
    "\n",
    "\ttemperatura_minima = tabela[0][0]\n",
    "\ttemperatura_maxima = tabela[-1][0]\n",
    "\n",
    "\treturn [temperatura_maxima, temperatura_minima]\n",
    "\n",
    "\n",
    "teste = [[\"25/11/2022\", 30], [\"26/11/2022\", 27], [\"27/11/2022\", 31],[\"28/11/2022\", 29], [\"29/11/2022\", 20]]\n",
    "\n",
    "min_max_temperatura(teste)"
   ]
  },
  {
   "cell_type": "markdown",
   "metadata": {},
   "source": [
    "Total de vendas a partir de dados em arquivo\n",
    "Comumente precisamos lidar com informações que já foram armazenadas em outros locais antes da execução do programa, como uma planilha do excel, de forma a fazer algum processamento com estas informações. Digamos, por exemplo, que uma empresa tenha armazenado dados sobre as vendas dos últimos 5 anos e queira saber a média anual dessas vendas. Podemos acessar estes dados por meio da leitura de arquivos no python para, posteriormente, realizar o cálculo da média. Similarmente, também podemos salvar informações em arquivos no Python para acesso futuro. Utilizando o mesmo exemplo do histórico de vendas, podemos realizar os cálculos de média anual e salvá-lo em um arquivo para enviar para o gerente de vendas.\n",
    "\n",
    "Sabendo disso, crie uma função media_vendas() para ler um arquivo csv e retornar o total de vendas no período. A função receberá diretamente a string lida de um arquivo csv que usa \", \" como separador. No arquivo, temos as seguintes colunas: data, produto, quantidade, valor. Note que a coluna \"valor\" corresponde ao preço unitário de cada produto, não o valor total da compra. Nosso objetivo é calcular o total de vendas, considerando todos os produtos registrados no arquivo.\n",
    "\n",
    "Obs.: arredonde a resposta final para duas casas decimais."
   ]
  },
  {
   "cell_type": "code",
   "execution_count": 101,
   "metadata": {},
   "outputs": [
    {
     "name": "stdout",
     "output_type": "stream",
     "text": [
      "11550.0\n"
     ]
    }
   ],
   "source": [
    "def media_vendas(vendas):\n",
    "    csv = vendas.split(\"\\n\")\n",
    "\n",
    "    csv = [linha for linha in csv if linha]\n",
    "    \n",
    "    data = csv[1:]\n",
    "\n",
    "    total_vendas = 0\n",
    "\n",
    "    for linha in data:\n",
    "        campos = linha.split(\",\")\n",
    "        quantidade = int(campos[2].strip())\n",
    "        valor_unitario = float(campos[3].strip())\n",
    "        total_vendas += (quantidade * valor_unitario)\n",
    "\n",
    "    return round(total_vendas, 2)\n",
    "\n",
    "def ler_arquivo(nome_arquivo):\n",
    "\twith open(nome_arquivo, \"r\", ) as arquivo:\n",
    "\t\tconteudo = arquivo.read()\n",
    "\treturn conteudo\n",
    "\n",
    "\n",
    "# teste = \"data, produto, quantidade, valor\\n20/10/2022, prato, 15, 20.00\\n19/10/2022, copo, 5, 5\\n07/07/2022, lampada, 3, 68.90\"\n",
    "teste = ler_arquivo('teste_csv/vendas.csv')\n",
    "\n",
    "print(media_vendas(teste))"
   ]
  },
  {
   "cell_type": "markdown",
   "metadata": {},
   "source": [
    "Mudança do delimitador do csv\n",
    "Comumente precisamos lidar com informações que já foram armazenadas em outros locais antes da execução do programa, como uma planilha do excel, de forma a fazer algum processamento com estas informações. Digamos, por exemplo, que uma empresa tenha armazenado dados sobre as vendas dos últimos 5 anos e queira saber a média anual dessas vendas, podemos acessar estes dados por meio da leitura de arquivos no python para, posteriormente, realizar o cálculo da média. Similarmente, também podemos salvar informações em arquivos no Python para acesso futuro. Utilizando o mesmo exemplo do histórico de vendas, podemos realizar os cálculos de média anual e salvá-lo em um arquivo para enviar para o gerente de vendas.\n",
    "\n",
    "Sabendo disso, supondo que uma empresa armazenou seu histórico de vendas como um arquivo csv usando \", \" como delimitador, e agora deseje salvar um novo arquivo csv cujos valores sehjam separados por \"\\t\". Faça uma função converte_sep() que receba uma string que contenha o conteúdo original do csv e retorna a string do arquivo csv com o novo separador."
   ]
  },
  {
   "cell_type": "code",
   "execution_count": 145,
   "metadata": {},
   "outputs": [
    {
     "name": "stdout",
     "output_type": "stream",
     "text": [
      "data\tproduto\tquantidade\tvalor\tvalor_unitario\n",
      "20/10/2022\tventilador\t1\t120.00\t120.00\n",
      "19/20/2022\tcadeira\t1\t335.55\t335.55\n",
      "07/07/2022\tlampada\t3\t68.90\t22.96\n"
     ]
    }
   ],
   "source": [
    "def converte_sep(valores):\n",
    "    linhas = valores.split(\"\\n\")\n",
    "    linhas_convertidas = []\n",
    "    \n",
    "    for linha in linhas:\n",
    "        campos = linha.split(\",\")\n",
    "        campos = [campo.strip() for campo in campos] \n",
    "        linhas_convertidas.append('\\t'.join(campos))\n",
    "    \n",
    "    return '\\n'.join(linhas_convertidas)\n",
    "\n",
    "\n",
    "def ler_arquivo(nome_arquivo):\n",
    "    with open(nome_arquivo, \"r\", ) as arquivo:\n",
    "        conteudo = arquivo.read()\n",
    "    return conteudo\n",
    "\n",
    "\n",
    "teste = \"data, produto, quantidade, valor, valor_unitario\\n20/10/2022, ventilador, 1, 120.00, 120.00\\n19/20/2022, cadeira, 1, 335.55, 335.55\\n07/07/2022, lampada, 3, 68.90, 22.96\"\n",
    "\n",
    "print(converte_sep(teste2))"
   ]
  },
  {
   "cell_type": "markdown",
   "metadata": {},
   "source": [
    "Subtraindo elementos usando funções de alta ordem\n",
    "Em programação, temos que pensar não apenas na implementação do código propriamente dita para execução correta da tarefa desejada, como também na melhor forma de realizar esta implementação. Com isso, paradigmas de programação foram criados para auxiliar o programador a pensar diferente.\n",
    "\n",
    "Um desses paradigmas é o uso de funções de alta ordem, o que permite que realizemos diversas operações em coleções (listas, tuplas, arrays, etc) sem o uso de loops explicitamente.\n",
    "\n",
    "Um dos usos mais comuns é o uso de funções reduce, responsáveis por acumular uma operação ao longo de uma coleção. Sabendo disso, implemente uma função reduceSub() que recebe uma lista, e então faz uso do reduce para realizar a subtração dos números da lista com base no valor inicial 3."
   ]
  },
  {
   "cell_type": "code",
   "execution_count": 131,
   "metadata": {},
   "outputs": [
    {
     "name": "stdout",
     "output_type": "stream",
     "text": [
      "-22\n"
     ]
    }
   ],
   "source": [
    "from functools import reduce\n",
    "\n",
    "def subtrair(x, y):\n",
    "    return x - y\n",
    "\n",
    "def reduceSub(listaA):\n",
    "    return reduce(subtrair, listaA, 3)\n",
    "\n",
    "\n",
    "teste = [\n",
    "    1,\n",
    "    3,\n",
    "    5,\n",
    "    7,\n",
    "    9\n",
    "]\n",
    "\n",
    "print(reduceSub(teste))"
   ]
  }
 ],
 "metadata": {
  "kernelspec": {
   "display_name": "Python 3",
   "language": "python",
   "name": "python3"
  },
  "language_info": {
   "codemirror_mode": {
    "name": "ipython",
    "version": 3
   },
   "file_extension": ".py",
   "mimetype": "text/x-python",
   "name": "python",
   "nbconvert_exporter": "python",
   "pygments_lexer": "ipython3",
   "version": "3.11.5"
  },
  "orig_nbformat": 4
 },
 "nbformat": 4,
 "nbformat_minor": 2
}
