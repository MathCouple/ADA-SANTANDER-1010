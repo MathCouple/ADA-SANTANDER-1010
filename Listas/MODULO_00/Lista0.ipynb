{
 "cells": [
  {
   "cell_type": "code",
   "execution_count": 1,
   "id": "48764e00",
   "metadata": {},
   "outputs": [
    {
     "name": "stdout",
     "output_type": "stream",
     "text": [
      "0\n"
     ]
    }
   ],
   "source": [
    "teste = [\n",
    "    100,\n",
    "      88,\n",
    "      32,\n",
    "      27,\n",
    "      14,\n",
    "      5,\n",
    "      2,\n",
    "      0\n",
    "]\n",
    "\n",
    "\n",
    "def ultimoElemento(listaA):\n",
    "    \n",
    "    return(listaA[-1])\n",
    "\n",
    "print(ultimoElemento(teste))"
   ]
  },
  {
   "cell_type": "code",
   "execution_count": 2,
   "id": "67179692",
   "metadata": {},
   "outputs": [
    {
     "name": "stdout",
     "output_type": "stream",
     "text": [
      "[100, 88, 32, 27, 14, 5, 2, 0]\n"
     ]
    }
   ],
   "source": [
    "teste = [\n",
    "    100,\n",
    "      88,\n",
    "      32,\n",
    "      27,\n",
    "      14,\n",
    "      5,\n",
    "      2,\n",
    "      0\n",
    "]\n",
    "\n",
    "def ordena_lista(listaA):\n",
    "    listaA.sort(reverse=True)\n",
    "    return listaA\n",
    "\n",
    "print(ordena_lista(teste))"
   ]
  },
  {
   "cell_type": "code",
   "execution_count": 3,
   "id": "dab3747c",
   "metadata": {},
   "outputs": [
    {
     "name": "stdout",
     "output_type": "stream",
     "text": [
      "[100, 88, 32, 27, 42, 14, 5, 2, 0]\n"
     ]
    }
   ],
   "source": [
    "teste = [\n",
    "    100,\n",
    "      88,\n",
    "      32,\n",
    "      27,\n",
    "      14,\n",
    "      5,\n",
    "      2,\n",
    "      0\n",
    "]\n",
    "\n",
    "def adicionarElemento(listaA):\n",
    "    meio = len(listaA) // 2\n",
    "    if len(listaA) % 2 == 0:\n",
    "        listaA.insert(meio, 42)\n",
    "    else:\n",
    "        listaA.insert(meio + 1, 42)\n",
    "\n",
    "    return listaA\n",
    "\n",
    "print(adicionarElemento(teste))"
   ]
  },
  {
   "cell_type": "code",
   "execution_count": 5,
   "id": "1255bc0e",
   "metadata": {},
   "outputs": [
    {
     "name": "stdout",
     "output_type": "stream",
     "text": [
      "[1, 88, 1024, 19683, 38416, 3125, 64, 0]\n"
     ]
    }
   ],
   "source": [
    "teste = [\n",
    "    100,\n",
    "      88,\n",
    "      32,\n",
    "      27,\n",
    "      14,\n",
    "      5,\n",
    "      2,\n",
    "      0\n",
    "]\n",
    "\n",
    "def calculaPotencia(listaA):\n",
    "    listaB = [\n",
    "        elemento ** indice for indice,\n",
    "        elemento in enumerate(listaA)\n",
    "    ]\n",
    "    \n",
    "    return listaB\n",
    "\n",
    "print(calculaPotencia(teste))"
   ]
  },
  {
   "cell_type": "code",
   "execution_count": 6,
   "id": "cc773011",
   "metadata": {},
   "outputs": [
    {
     "name": "stdout",
     "output_type": "stream",
     "text": [
      "[27, 2]\n"
     ]
    }
   ],
   "source": [
    "teste = [\n",
    "    100,\n",
    "      88,\n",
    "      32,\n",
    "      27,\n",
    "      14,\n",
    "      5,\n",
    "      2,\n",
    "      0\n",
    "]\n",
    "\n",
    "def retornaPenultimoEQuartoElementodeLista(listaA):\n",
    "    quarto = listaA[3]\n",
    "    penultimo = listaA[-2]\n",
    "    \n",
    "    return [quarto, penultimo]\n",
    "\n",
    "print(retornaPenultimoEQuartoElementodeLista(teste))"
   ]
  },
  {
   "cell_type": "code",
   "execution_count": 7,
   "id": "e094704e",
   "metadata": {},
   "outputs": [
    {
     "name": "stdout",
     "output_type": "stream",
     "text": [
      "[100, 88, 32, 27, 14, 5, 2, 0]\n"
     ]
    }
   ],
   "source": [
    "teste = [\n",
    "    100,\n",
    "      88,\n",
    "      32,\n",
    "      27,\n",
    "      14,\n",
    "      5,\n",
    "      2,\n",
    "      0\n",
    "]\n",
    "\n",
    "def removerElementosVazios(listaA):\n",
    "    listaSemVazios = list(\n",
    "        filter(\n",
    "            lambda nome: nome != '', listaA\n",
    "        )\n",
    "    )\n",
    "\n",
    "    return listaSemVazios\n",
    "\n",
    "print(removerElementosVazios(teste))"
   ]
  },
  {
   "cell_type": "code",
   "execution_count": 25,
   "id": "1ae63cef",
   "metadata": {},
   "outputs": [
    {
     "name": "stdout",
     "output_type": "stream",
     "text": [
      "[194, 509, 529, 561, 637]\n"
     ]
    }
   ],
   "source": [
    "teste = [\n",
    "    100,\n",
    "      88,\n",
    "      32,\n",
    "      27,\n",
    "      14,\n",
    "      5,\n",
    "      2,\n",
    "      0\n",
    "]\n",
    "\n",
    "def ultimoElementoLista2D(lista):\n",
    "    return [\n",
    "        sublista[-1][-1] for sublista in zip(lista)\n",
    "    ]\n",
    "\n",
    "print(ultimoElementoLista2D(teste))"
   ]
  },
  {
   "cell_type": "code",
   "execution_count": 8,
   "id": "bed04914",
   "metadata": {},
   "outputs": [
    {
     "name": "stdout",
     "output_type": "stream",
     "text": [
      "[5, 2, 0]\n"
     ]
    }
   ],
   "source": [
    "teste = [\n",
    "    100,\n",
    "      88,\n",
    "      32,\n",
    "      27,\n",
    "      14,\n",
    "      5,\n",
    "      2,\n",
    "      0\n",
    "]\n",
    "\n",
    "def particionarLista(listaA):\n",
    "    return listaA[5:12]\n",
    "\n",
    "print(particionarLista(teste))"
   ]
  }
 ],
 "metadata": {
  "kernelspec": {
   "display_name": "Python 3 (ipykernel)",
   "language": "python",
   "name": "python3"
  },
  "language_info": {
   "codemirror_mode": {
    "name": "ipython",
    "version": 3
   },
   "file_extension": ".py",
   "mimetype": "text/x-python",
   "name": "python",
   "nbconvert_exporter": "python",
   "pygments_lexer": "ipython3",
   "version": "3.11.5"
  }
 },
 "nbformat": 4,
 "nbformat_minor": 5
}
