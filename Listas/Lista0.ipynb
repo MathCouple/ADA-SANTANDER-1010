{
 "cells": [
  {
   "cell_type": "code",
   "execution_count": null,
   "id": "48764e00",
   "metadata": {},
   "outputs": [],
   "source": [
    "def ultimoElemento(listaA):\n",
    "    \n",
    "    return(listaA[-1])"
   ]
  },
  {
   "cell_type": "code",
   "execution_count": null,
   "id": "67179692",
   "metadata": {},
   "outputs": [],
   "source": [
    "teste = [\n",
    "    100,\n",
    "      88,\n",
    "      32,\n",
    "      27,\n",
    "      14,\n",
    "      5,\n",
    "      2,\n",
    "      0\n",
    "]\n",
    "\n",
    "def ordena_lista(listaA):\n",
    "    listaA.sort(reverse=True)\n",
    "    return listaA\n",
    "\n",
    "print(ordena_lista(teste))"
   ]
  },
  {
   "cell_type": "code",
   "execution_count": null,
   "id": "dab3747c",
   "metadata": {},
   "outputs": [],
   "source": [
    "def adicionarElemento(listaA):\n",
    "    meio = len(listaA) // 2\n",
    "    if len(listaA) % 2 == 0:\n",
    "        listaA.insert(meio, 42)\n",
    "    else:\n",
    "        listaA.insert(meio + 1, 42)\n",
    "\n",
    "    return listaA"
   ]
  },
  {
   "cell_type": "code",
   "execution_count": null,
   "id": "1255bc0e",
   "metadata": {},
   "outputs": [],
   "source": [
    "def calculaPotencia(listaA):\n",
    "    listaB = [\n",
    "        elemento ** indice for indice,\n",
    "        elemento in enumerate(listaA)\n",
    "    ]\n",
    "    \n",
    "    return listaB"
   ]
  },
  {
   "cell_type": "code",
   "execution_count": null,
   "id": "cc773011",
   "metadata": {},
   "outputs": [],
   "source": [
    "def retornaPenultimoEQuartoElementodeLista(listaA):\n",
    "    quarto = listaA[3]\n",
    "    penultimo = listaA[-2]\n",
    "    \n",
    "    return [quarto, penultimo]"
   ]
  },
  {
   "cell_type": "code",
   "execution_count": null,
   "id": "e094704e",
   "metadata": {},
   "outputs": [],
   "source": [
    "def removerElementosVazios(listaA):\n",
    "    listaSemVazios = list(\n",
    "        filter(\n",
    "            lambda nome: nome != '', listaA\n",
    "        )\n",
    "    )\n",
    "\n",
    "    return listaSemVazios"
   ]
  },
  {
   "cell_type": "code",
   "execution_count": 25,
   "id": "1ae63cef",
   "metadata": {},
   "outputs": [
    {
     "name": "stdout",
     "output_type": "stream",
     "text": [
      "[194, 509, 529, 561, 637]\n"
     ]
    }
   ],
   "source": [
    "teste= [[192, 193, 194],\n",
    " [507, 508, 509],\n",
    " [526, 527, 528, 529],\n",
    " [560, 561],\n",
    " [635, 636, 637]]\n",
    "\n",
    "def ultimoElementoLista2D(lista):\n",
    "    return [\n",
    "        sublista[-1][-1] for sublista in zip(lista)\n",
    "    ]\n",
    "\n",
    "print(ultimoElementoLista2D(teste))"
   ]
  },
  {
   "cell_type": "code",
   "execution_count": null,
   "id": "bed04914",
   "metadata": {},
   "outputs": [],
   "source": [
    "def particionarLista(listaA):\n",
    "    return listaA[5:12]\n"
   ]
  }
 ],
 "metadata": {
  "kernelspec": {
   "display_name": "Python 3 (ipykernel)",
   "language": "python",
   "name": "python3"
  },
  "language_info": {
   "codemirror_mode": {
    "name": "ipython",
    "version": 3
   },
   "file_extension": ".py",
   "mimetype": "text/x-python",
   "name": "python",
   "nbconvert_exporter": "python",
   "pygments_lexer": "ipython3",
   "version": "3.10.9"
  }
 },
 "nbformat": 4,
 "nbformat_minor": 5
}
