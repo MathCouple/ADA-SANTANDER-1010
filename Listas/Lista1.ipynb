{
 "cells": [
  {
   "cell_type": "code",
   "execution_count": 14,
   "metadata": {},
   "outputs": [
    {
     "name": "stdout",
     "output_type": "stream",
     "text": [
      "(4, 4, 4, 4, 4, 4, 4, 36, 81, 5476, 81)\n"
     ]
    }
   ],
   "source": [
    "def getQuadrado(tuplaA):\n",
    "    \n",
    "    return tuple([\n",
    "        num**2 for num in tuplaA\n",
    "    ])\n",
    "\n",
    "result = getQuadrado([2,2,2,2,2,2,2,6,9,74,9])\n",
    "\n",
    "print(result)"
   ]
  },
  {
   "cell_type": "code",
   "execution_count": 13,
   "metadata": {},
   "outputs": [
    {
     "name": "stdout",
     "output_type": "stream",
     "text": [
      "(4, 4, 4, 4, 4, 4, 4, 36, 81, 5476, 81)\n"
     ]
    }
   ],
   "source": [
    "def mediaAlunosParaDicionario(listaAlunos):\n",
    "\tpass"
   ]
  }
 ],
 "metadata": {
  "kernelspec": {
   "display_name": "Python 3",
   "language": "python",
   "name": "python3"
  },
  "language_info": {
   "codemirror_mode": {
    "name": "ipython",
    "version": 3
   },
   "file_extension": ".py",
   "mimetype": "text/x-python",
   "name": "python",
   "nbconvert_exporter": "python",
   "pygments_lexer": "ipython3",
   "version": "3.11.5"
  },
  "orig_nbformat": 4
 },
 "nbformat": 4,
 "nbformat_minor": 2
}
