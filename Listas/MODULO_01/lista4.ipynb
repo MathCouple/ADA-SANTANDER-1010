{
 "cells": [
  {
   "cell_type": "markdown",
   "metadata": {},
   "source": [
    "No python, principalmente em aplicações web, é muito comum utilizarmos o formato JSON. Essa linguagem possui sintaxe semelhante a um dicionário e torna o entendimento do arquivo legível para humanos.\n",
    "\n",
    "Em um arquivo JSON, podemos ter estruturas que variam desde estruturas semelhantes a dicionários simples como dicionários compostos e diferentes estruturas agregadas (listas e tuplas, por exemplo).\n",
    "\n",
    "Sabendo disso, crie uma função que recebe uma lista de chaves, uma lista de valores (respectivamente) e cria um json a partir dessas listas. A função deverá retornar uma string que representa o json criado."
   ]
  },
  {
   "cell_type": "code",
   "execution_count": 1,
   "metadata": {},
   "outputs": [
    {
     "name": "stdout",
     "output_type": "stream",
     "text": [
      "{\n",
      "    \"nome\": \"João\",\n",
      "    \"idade\": 30,\n",
      "    \"cidade\": \"São Paulo\"\n",
      "}\n"
     ]
    }
   ],
   "source": [
    "import json\n",
    "\n",
    "def cria_arquivo_json(chaves, valores):\n",
    "    dicionario = dict(zip(chaves, valores))\n",
    "    \n",
    "    json_string = json.dumps(dicionario, ensure_ascii=False)\n",
    "    \n",
    "    return json_string\n",
    "\n",
    "\n",
    "# teste\n",
    "chaves = [\"nome\", \"idade\", \"cidade\"]\n",
    "valores = [\"João\", 30, \"São Paulo\"]\n",
    "\n",
    "json_string = cria_arquivo_json(chaves, valores)\n",
    "print(json_string)"
   ]
  },
  {
   "cell_type": "markdown",
   "metadata": {},
   "source": [
    "Validação por blocos try except - parte 4\n",
    "Quando implementamos um software, precisamos pensar nas diferentes situações que podem ocorrer nele, inclusive possíveis falhas. Uma falha que não seja detectada previamente pode resultar em uma interrupção abrupta do programa e esta pode ocorrer de diferentes formas.\n",
    "\n",
    "Por exemplo, suponhamos que um programa necessite de arquitos externos para ser executado e um desses arquivos tenha sido movido para outro diretório, porém, o programa esteja fazendo a leitura do arquivo no diretório antigo. Quando o programa for executado, ele não encontrará o arquivo e sua execução pode ser interrompida. Um outro exemplo são operações matemáticas não permitidas, como uma divisão por zero.\n",
    "\n",
    "Para evitar isso, utilizamos blocos try-except a fim de tratar possíveis erros e evitar a quebra do programa. Podemos utilizar esses blocos juntamente também de estruturas if-else. Sabendo disso, crie uma função verifica_numero(x1) que recebe um número e, caso este número não seja positivo, retorne uma exceção de tipo Exception(\"Número deverá ser maior que zero\")."
   ]
  },
  {
   "cell_type": "code",
   "execution_count": 2,
   "metadata": {},
   "outputs": [
    {
     "name": "stdout",
     "output_type": "stream",
     "text": [
      "Número deverá ser maior que zero\n"
     ]
    }
   ],
   "source": [
    "def verifica_numero(x1):\n",
    "    if x1 <= 0:\n",
    "        raise Exception(\"Número deverá ser maior que zero\")\n",
    "    return x1\n",
    "\n",
    "\n",
    "# teste\n",
    "try:\n",
    "    num = verifica_numero(-5)\n",
    "except Exception as e:\n",
    "    print(e)"
   ]
  },
  {
   "cell_type": "markdown",
   "metadata": {},
   "source": [
    "Validação por blocos try except - parte 6\n",
    "Quando implementamos um software, precisamos pensar nas diferentes situações que podem ocorrer nele, inclusive possíveis falhas. Uma falha que não seja detectada previamente pode resultar em uma interrupção abrupta do programa e esta pode ocorrer de n formas.\n",
    "\n",
    "Por exemplo, suponhamos que um programa necessite de arquitos externos para ser executado e um desses arquivos tenha sido movido para outro diretório, porém, o programa esteja fazendo a leitura do arquivo no diretório antigo. Quando o programa for executado, ele não encontrará o arquivo e sua execução pode ser interrompida. Um outro exemplo são operações matemáticas não permitidas, como uma divisão por zero.\n",
    "\n",
    "Para evitar isso, utilizamos blocos try-except afim de tratar possíveis erros e evitar quebra do programa. Um erro comum de ocorrer é alguma variável do programa estar vazia em um dado momento quando não deveria estar. Sabendo disso, faça um programa que lance uma exceção TypeError caso uma variável seja None."
   ]
  },
  {
   "cell_type": "code",
   "execution_count": 3,
   "metadata": {},
   "outputs": [
    {
     "name": "stdout",
     "output_type": "stream",
     "text": [
      "A variável não pode ser None\n"
     ]
    }
   ],
   "source": [
    "def valida_variavel(variavel):\n",
    "    if variavel is None:\n",
    "        raise TypeError(\"A variável não pode ser None\")\n",
    "    return variavel\n",
    "\n",
    "\n",
    "\n",
    "# teste\n",
    "try:\n",
    "    variavel_teste = None\n",
    "    valida_variavel(variavel_teste)\n",
    "except TypeError as te:\n",
    "    print(te)"
   ]
  },
  {
   "cell_type": "markdown",
   "metadata": {},
   "source": [
    "Validação por blocos try except - parte 2\n",
    "Quando implementamos um software, precisamos pensar nas diferentes situações que podem ocorrer nele, inclusive possíveis falhas. Uma falha que não seja detectada previamente pode resultar em uma interrupção abrupta do programa e esta pode ocorrer de diferentes formas.\n",
    "\n",
    "Por exemplo, suponhamos que um programa necessite de arquitos externos para ser executado e um desses arquivos tenha sido movido para outro diretório, porém, o programa esteja fazendo a leitura do arquivo no diretório antigo. Quando o programa for executado, ele não encontrará o arquivo e sua execução pode ser interrompida. Um outro exemplo são operações matemáticas não permitidas, como uma divisão por zero.\n",
    "\n",
    "Para evitar isso, utilizamos blocos try-except a fim de tratar possíveis erros e evitar a quebra do programa. Sabendo disso, implemente a função divide_dois_numeros(), que recebe dois números x e y e retorna a divisão do número x por y. Para garantir o uso correto, adicione um bloco try-except nesta função de forma que, caso y seja igual a zero, acione uma cláusula except ZeroDivisionError, além de uma segunda cláusula except para caso a função seja chamada sem um dos dois parâmetros obrigatórios (variáveis x e y), subindo um erro do tipo adequado (alguma built-in Exception) caso algum dos argumentos não seja passado."
   ]
  },
  {
   "cell_type": "code",
   "execution_count": 2,
   "metadata": {},
   "outputs": [
    {
     "name": "stdout",
     "output_type": "stream",
     "text": [
      "O divisor y não pode ser zero\n",
      "Ambos os parâmetros, x e y, são obrigatórios\n"
     ]
    }
   ],
   "source": [
    "def divide_dois_numeros(x=None, y=None):\n",
    "    try:\n",
    "        if x is None or y is None:\n",
    "            raise TypeError(\"Ambos os parâmetros, x e y, são obrigatórios\")\n",
    "        \n",
    "        resultado = x / y\n",
    "        return resultado\n",
    "    \n",
    "    except ZeroDivisionError:\n",
    "        raise ZeroDivisionError(\"O divisor y não pode ser zero\")\n",
    "    \n",
    "    except TypeError:\n",
    "        raise TypeError(\"Ambos os parâmetros, x e y, são obrigatórios\")\n",
    "\n",
    "\n",
    "# Teste\n",
    "try:\n",
    "    resultado = divide_dois_numeros(10, 0)\n",
    "    print(resultado)\n",
    "except Exception as e:\n",
    "    print(e)\n",
    "\n",
    "try:\n",
    "    resultado = divide_dois_numeros(10)\n",
    "    print(resultado)\n",
    "except Exception as e:\n",
    "    print(e)\n"
   ]
  },
  {
   "cell_type": "markdown",
   "metadata": {},
   "source": [
    "Validação por blocos try except - parte 3\n",
    "Quando implementamos um software, precisamos pensar nas diferentes situações que podem ocorrer nele, inclusive possíveis falhas. Uma falha que não seja detectada previamente pode resultar em uma interrupção abrupta do programa e esta pode ocorrer de diferentes formas.\n",
    "\n",
    "Por exemplo, suponhamos que um programa necessite de arquitos externos para ser executado e um desses arquivos tenha sido movido para outro diretório, porém, o programa esteja fazendo a leitura do arquivo no diretório antigo. Quando o programa for executado, ele não encontrará o arquivo e sua execução pode ser interrompida. Um outro exemplo são operações matemáticas não permitidas, como uma divisão por zero.\n",
    "\n",
    "Para evitar isso, utilizamos blocos try-except a fim de tratar possíveis erros e evitar a quebra do programa. Podemos utilizar esses blocos juntamente também de estruturas if-else. Sabendo disso, crie uma função verifica_numero(x1) que recebe um número e, caso este número não seja de tipo int, retorne uma exceção de tipo TypeError(\"Apenas números inteiros permitidos. Digite novamente\")."
   ]
  },
  {
   "cell_type": "code",
   "execution_count": 11,
   "metadata": {},
   "outputs": [
    {
     "name": "stdout",
     "output_type": "stream",
     "text": [
      "O número verificado é 5\n",
      "Erro: Apenas números inteiros permitidos. Digite novamente\n"
     ]
    }
   ],
   "source": [
    "def verifica_numero(x1):\n",
    "    if not isinstance(x1, int):\n",
    "        raise TypeError(\"Apenas números inteiros permitidos. Digite novamente\")\n",
    "    return x1\n",
    "\n",
    "\n",
    "# Teste\n",
    "try:\n",
    "    resultado = verifica_numero(5)\n",
    "    print(f\"O número verificado é {resultado}\")\n",
    "except TypeError as te:\n",
    "    print(f\"Erro: {te}\")\n",
    "\n",
    "# Teste\n",
    "try:\n",
    "    resultado = verifica_numero('5')\n",
    "    print(f\"O número verificado é {resultado}\")\n",
    "except TypeError as te:\n",
    "    print(f\"Erro: {te}\")"
   ]
  },
  {
   "cell_type": "markdown",
   "metadata": {},
   "source": [
    "Validação por blocos try except - parte 1\n",
    "Quando implementamos um software, precisamos pensar nas diferentes situações que podem ocorrer nele, inclusive possíveis falhas. Uma falha que não seja detectada previamente pode resultar em uma interrupção abrupta do programa e esta pode ocorrer de diferentes formas.\n",
    "\n",
    "Por exemplo, suponhamos que um programa necessite de arquitos externos para ser executado e um desses arquivos tenha sido movido para outro diretório, porém, o programa esteja fazendo a leitura do arquivo no diretório antigo. Quando o programa for executado, ele não encontrará o arquivo e sua execução pode ser interrompida. Um outro exemplo são operações matemáticas não permitidas, como uma divisão por zero.\n",
    "\n",
    "Para evitar isso, utilizamos blocos try-except a fim de tratar possíveis erros e evitar a quebra do programa. Sabendo disso, implemente a função divide_dois_numeros(), que recebe dois números x e y e retorna a divisão do número x por y. Para garantir o uso correto, adicione um bloco try-except nesta função de forma que, caso y seja igual a zero, acione uma cláusula except ZeroDivisionError."
   ]
  },
  {
   "cell_type": "code",
   "execution_count": null,
   "metadata": {},
   "outputs": [],
   "source": [
    "def divide_dois_numeros(x,y):\n",
    "\ttry:\n",
    "\t\tresultado = x/y\n",
    "        return resultado\n",
    "\texcept ZeroDivisionError:\n",
    "\t\traise ZeroDivisionError(\"O divisor y não pode ser zero\")"
   ]
  },
  {
   "cell_type": "markdown",
   "metadata": {},
   "source": [
    "Uso de Arquivos JSON - parte 1\n",
    "No python, principalmente em aplicações web, é muito comum utilizarmos o formato JSON. Essa linguagem possui sintaxe semelhante a um dicionário e torna o entendimento do arquivo legível para humanos.\n",
    "\n",
    "Em um arquivo JSON, podemos ter estruturas que variam desde estruturas semelhantes a dicionários simples como dicionários compostos e diferentes estruturas agregadas (listas e tuplas, por exemplo).\n",
    "\n",
    "Sabendo disso, crie a função converte_para_json() que recebe um JSON na forma de string como parâmetro e internamente converte esta string para um objeto do tipo JSON ou dicionário. Adicionalmente, a função recebe um segundo argumento que é alguma das chaves do JSON/dicionário. No fim, a função deve retornar o valor correspondente à chave que foi passada como segundo argumento.\n",
    "\n",
    "Obs.: Importar o módulo json pode ser útil."
   ]
  },
  {
   "cell_type": "code",
   "execution_count": 16,
   "metadata": {},
   "outputs": [],
   "source": [
    "import json\n",
    "\n",
    "def converte_para_json(json_string, chave):\n",
    "    try:\n",
    "        dicionario = json.loads(json_string)\n",
    "        return dicionario[chave]\n",
    "    except json.JSONDecodeError:\n",
    "        raise ValueError(\"A string fornecida não é um JSON válido\")\n",
    "    except KeyError:\n",
    "        raise KeyError(chave)"
   ]
  },
  {
   "cell_type": "markdown",
   "metadata": {},
   "source": [
    "Validação por blocos try except - parte 5\n",
    "Quando implementamos um software, precisamos pensar nas diferentes situações que podem ocorrer nele, inclusive possíveis falhas. Uma falha que não seja detectada previamente pode resultar em uma interrupção abrupta do programa e esta pode ocorrer de diferentes formas.\n",
    "\n",
    "Por exemplo, suponhamos que um programa necessite de arquitos externos para ser executado e um desses arquivos tenha sido movido para outro diretório, porém, o programa esteja fazendo a leitura do arquivo no diretório antigo. Quando o programa for executado, ele não encontrará o arquivo e sua execução pode ser interrompida. Um outro exemplo são operações matemáticas não permitidas, como uma divisão por zero.\n",
    "\n",
    "Para evitar isso, utilizamos blocos try-except a fim de tratar possíveis erros e evitar a quebra do programa. Podemos utilizar esses blocos juntamente também de estruturas if-else. Sabendo disso, crie uma função verifica_extensao() que recebe um caminho de um arquivo a ser lido por um programa e valide a extensão deste arquivo. Será considerada uma extensão válida os arquivos nos formatos .jpg, .jpeg e .png, os demais deverão lançar uma exceção Exception(\"Formato inválido\")."
   ]
  },
  {
   "cell_type": "code",
   "execution_count": 1,
   "metadata": {},
   "outputs": [
    {
     "name": "stdout",
     "output_type": "stream",
     "text": [
      ".png imagem.jpeg\n",
      ".pdf Formato inválido\n"
     ]
    }
   ],
   "source": [
    "import os\n",
    "\n",
    "def verifica_extensao(path):\n",
    "    extensoes_validas = ['.jpg', '.jpeg', '.png']\n",
    "    \n",
    "    _, extensao = os.path.splitext(path)\n",
    "\t\n",
    "    if extensao.lower() not in extensoes_validas:\n",
    "        raise Exception(\"Formato inválido\")\n",
    "        \n",
    "    return path\n",
    "\n",
    "\n",
    "# Testes\n",
    "try:\n",
    "    print('.png', verifica_extensao(\"imagem.jpeg\"))\n",
    "except Exception as e:\n",
    "    print(e)\n",
    "\n",
    "try:\n",
    "    print('.pdf', verifica_extensao(\"documento.pdf\"))\n",
    "except Exception as e:\n",
    "    print('.pdf', e)"
   ]
  }
 ],
 "metadata": {
  "kernelspec": {
   "display_name": "Python 3",
   "language": "python",
   "name": "python3"
  },
  "language_info": {
   "codemirror_mode": {
    "name": "ipython",
    "version": 3
   },
   "file_extension": ".py",
   "mimetype": "text/x-python",
   "name": "python",
   "nbconvert_exporter": "python",
   "pygments_lexer": "ipython3",
   "version": "3.11.5"
  },
  "orig_nbformat": 4
 },
 "nbformat": 4,
 "nbformat_minor": 2
}
