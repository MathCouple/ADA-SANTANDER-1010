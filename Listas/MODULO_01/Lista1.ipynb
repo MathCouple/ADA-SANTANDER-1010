{
 "cells": [
  {
   "cell_type": "markdown",
   "metadata": {},
   "source": [
    "Expressões geradoras para tuplas\n",
    "Também é possível utilizar expressão geradoras para construir tuplas. Sendo assim, crie a função getQuadrado() que recebe uma tupla de elementos numéricos, e retorna uma tupla com o quadrado de cada elemento da tupla original."
   ]
  },
  {
   "cell_type": "code",
   "execution_count": 1,
   "metadata": {},
   "outputs": [
    {
     "name": "stdout",
     "output_type": "stream",
     "text": [
      "(4, 4, 4, 4, 4, 4, 4, 36, 81, 5476, 81)\n"
     ]
    }
   ],
   "source": [
    "def getQuadrado(tuplaA):\n",
    "    \n",
    "    return tuple([\n",
    "        num**2 for num in tuplaA\n",
    "    ])\n",
    "\n",
    "\n",
    "teste = [2,2,2,2,2,2,2,6,9,74,9]\n",
    "\n",
    "print(getQuadrado(teste))"
   ]
  },
  {
   "cell_type": "markdown",
   "metadata": {},
   "source": [
    "Compreensão de dicionários\n",
    "Da mesma forma que utilizamos a sintaxe \"pythonica\" de compreensão de listas, podemos fazer uma estrutura semelhante para gerar dicionários. Sendo assim, crie uma função mediaAlunosParaDicionario() que receba uma lista de listas, em que o primeiro elemento é uma lista com os nomes dos alunos; e o segundo elemento é uma lista com suas respectivas médias. Utilizando compreensão de dicionários, armazene estes dados no dicionário de forma que cada aluno seja a chave e sua média seja o valor.\n",
    "\n",
    "OBS: caso a nota não esteja numérica, é necessário tratar os valores para tipos numéricos!"
   ]
  },
  {
   "cell_type": "code",
   "execution_count": 44,
   "metadata": {},
   "outputs": [
    {
     "name": "stdout",
     "output_type": "stream",
     "text": [
      "{'Diego': 9.0, 'Thais': 8.0, 'Marilia': 8.0, 'Lucas': 6.5, 'Cecilia': 7.0}\n"
     ]
    }
   ],
   "source": [
    "def mediaAlunosParaDicionario(dados):\n",
    "\n",
    "    nomes, notas = dados[0], dados[1]\n",
    "    dict_alunos = {\n",
    "        aluno: float(nota) for aluno, nota in zip(nomes, notas)\n",
    "    }\n",
    "\n",
    "    return dict_alunos\n",
    "\n",
    "\n",
    "teste = [[\"Diego\", \"Thais\", \"Marilia\", \"Lucas\", \"Cecilia\"], [9.0, 8.0, 8.0, 6.5, 7.0]]\n",
    "\n",
    "print(mediaAlunosParaDicionario(teste))"
   ]
  },
  {
   "cell_type": "markdown",
   "metadata": {},
   "source": [
    "Muitas vezes quando estamos trabalhando com strings, pode ser bem útil usarmos compreensão de listas para processar caractere a caractere. Sabendo disso, crie uma função encontraConsoantes que retorna uma string com todas as consoantes (e apenas as consoantes!) de uma dada frase de input."
   ]
  },
  {
   "cell_type": "code",
   "execution_count": 45,
   "metadata": {},
   "outputs": [
    {
     "name": "stdout",
     "output_type": "stream",
     "text": [
      "YllwYkslkyllngndywnngndystrdythyydldwhltngykyyms\n"
     ]
    }
   ],
   "source": [
    "def encontraConsoantes(listaStrings):\n",
    "\tdados_consoantes =  ['a', 'e', 'i', 'o', 'u', ' ', ',', '.', '!', '?', ';', ':', '(', ')', '[', ']', '{', '}']\n",
    "\tstring = ''.join(\n",
    "\t\t[letra for letra in listaStrings if letra.lower() not in dados_consoantes]\n",
    "\t)\n",
    "\n",
    "\treturn string\n",
    "\n",
    "\n",
    "teste = \"Yellow Yaks like yelling and yawning and yesturday they yodled while eating yuky yams\"\n",
    "\n",
    "print(encontraConsoantes(teste))"
   ]
  },
  {
   "cell_type": "markdown",
   "metadata": {},
   "source": [
    "Filtrando elementos por funções lambda\n",
    "Em programação, temos que pensar não apenas na implementação do código propriamente dita para execução correta da tarefa desejada, como também na melhor forma de realizar esta implementação. Com isso, paradigmas de programação foram criados para auxiliar o programador a pensar diferente.\n",
    "\n",
    "Um desses paradigmas é a programação funcional, cujo objetivo é aumentar o determinismo do programa de forma que, caso o programa seja escalável e se torne muito grande, os desenvolvedores não percam o controle do código. Uma forma de fazer programação funcional é por meio de funções lambdas, também conhecidas como \"funções anônimas\", tendo esse nome porque não precisam ser declaradas com um nome.\n",
    "\n",
    "Sabendo disso, crie uma função filtraElementos() que recebe uma lista e utiliza função lambda para filtrar os elementos maiores que 10, ou seja, a função deve retornar uma lista apenas com estes elementos maiores que 10.\n",
    "\n",
    "OBS: em um cenário real, a função filtraElementos() seria utilizada para outras funcionalidades também além da utilização da lambda, de forma a melhorar o determinismo do código."
   ]
  },
  {
   "cell_type": "code",
   "execution_count": 46,
   "metadata": {},
   "outputs": [
    {
     "name": "stdout",
     "output_type": "stream",
     "text": [
      "[12, 18, 21]\n"
     ]
    }
   ],
   "source": [
    "def filtraElementos(listaA):\n",
    "\n",
    "    filter_data = list(filter(lambda x: x > 10, listaA))\n",
    "\n",
    "    return filter_data\n",
    "\n",
    "teste = [5, 12, 3, 18, 9, 21, 8]\n",
    "\n",
    "print(filtraElementos(teste)) "
   ]
  },
  {
   "cell_type": "markdown",
   "metadata": {},
   "source": [
    "Remoção de espaços extras de strings\n",
    "É comum em sistemas de cadastro, os clientes preencherem dados com caracteres ou espaços indesejáveis. Sendo assim, implemente uma função remove_espaco(listaStrings) que recebe uma lista de strings e retire espaços extras que possam haver no início, meio ou no fim de uma string.\n",
    "\n",
    "Por exemplo,\n",
    "\n",
    "entrada: [\"  string\", \"  exemplo  \", \"do   exercício\"] saída: [\"string\", \"exemplo\", \"do exercício\"]"
   ]
  },
  {
   "cell_type": "code",
   "execution_count": 47,
   "metadata": {},
   "outputs": [
    {
     "name": "stdout",
     "output_type": "stream",
     "text": [
      "['string', 'exemplo', 'do exercício']\n"
     ]
    }
   ],
   "source": [
    "def remove_espacos(listaStrings):\n",
    "    \n",
    "    espaco_formatado = list(\n",
    "        map(lambda s: ' '.join(s.split()), listaStrings)\n",
    "    )\n",
    "    \n",
    "    return espaco_formatado\n",
    "\n",
    "\n",
    "teste = [\"  string\", \"  exemplo  \", \"do   exercício\"]\n",
    "\n",
    "\n",
    "print(remove_espacos(teste)) \n"
   ]
  },
  {
   "cell_type": "markdown",
   "metadata": {},
   "source": [
    "Encontrando números divisíveis por 7\n",
    "Uma forma \"pythonica\" de iterarmos por listas é por meio de compreensão de listas, que substitui o uso de um laço de repetição for tal como implementamos tradicionalmente para a criação de novas listas.\n",
    "\n",
    "Sabendo disso, digamos que em um sistema desejemos buscar, entre 1000 usuários, apenas aqueles cujo ID é divisível por 7. Faça uma função numerosDiv7() para este sistema que receba uma lista A de 1000 elementos e retorne uma lista apenas com os elementos de A que são divisíveis por 7.\n",
    "\n",
    "OBS: Caso existam elementos repetidos na lista, a saída deverá exibir apenas os elementos únicos divisíveis por 7. E se não houver elementos divisíveis por 7, o programa deve retornar uma lista vazia."
   ]
  },
  {
   "cell_type": "code",
   "execution_count": 48,
   "metadata": {},
   "outputs": [
    {
     "name": "stdout",
     "output_type": "stream",
     "text": [
      "[14, 21, 42]\n"
     ]
    }
   ],
   "source": [
    "def numerosDiv7(listaA):\n",
    "\n",
    "    try:\n",
    "\n",
    "        divid_7 = list(\n",
    "          filter(lambda num: int(num) % 7 == 0, listaA)\n",
    "        )\n",
    "        divid_7 = sorted(list(set(divid_7)))\n",
    "\n",
    "        return divid_7\n",
    "\n",
    "    except:\n",
    "  \n",
    "        return []\n",
    "\n",
    "\n",
    "teste =\t[\n",
    "  14,\n",
    "  21,\n",
    "  32,\n",
    "  42,\n",
    "  230,\n",
    "  223,\n",
    "  356,\n",
    "  10\n",
    "]\n",
    "\n",
    "print(numerosDiv7(teste))"
   ]
  },
  {
   "cell_type": "markdown",
   "metadata": {},
   "source": [
    "Dicionário cujos valores são listas\n",
    "Em determinadas situações, é necessário agrupar informações de acordo com alguma dada característica para facilitar o acesso a essas informações. Uma estrutura em python que armazena informações seguindo essa organização são dicionários.\n",
    "\n",
    "Um exemplo de uso comum de dicionários são cadastros de clientes, em que, por exemplo, um elemento do dicionário pode ser o nome dos clientes, outro elemento o emprego outro o estado de habitação. Quando quisermos utilizar apenas as informações de estado, selecionamos apenas este elemento do dicionário, utilizando a respectiva chave como indexador do dicionário.\n",
    "\n",
    "Sabendo disso, crie uma função mediaPrecoCelular() que receba um dicionário que possui a chave \"valor\", e retorne uma lista com: a média dos valores existentes nesta chave, o celular mais barato, e o mais caro, nesta ordem."
   ]
  },
  {
   "cell_type": "code",
   "execution_count": 49,
   "metadata": {},
   "outputs": [
    {
     "name": "stdout",
     "output_type": "stream",
     "text": [
      "[666.6666666666666, 200, 1000]\n"
     ]
    }
   ],
   "source": [
    "def mediaPrecoCelular(dict_celulares_preco):\n",
    "\n",
    "    try:\n",
    "\n",
    "        media = sum(dict_celulares_preco[\"valor\"]) / len(dict_celulares_preco[\"valor\"])\n",
    "        \n",
    "        mais_barato = min(dict_celulares_preco[\"valor\"])\n",
    "        \n",
    "        mais_caro = max(dict_celulares_preco[\"valor\"])\n",
    "\n",
    "        cel_analise = [media, mais_barato, mais_caro]\n",
    "        \n",
    "        return cel_analise\n",
    "    \n",
    "    except:\n",
    "\n",
    "        return []\n",
    "\n",
    "\n",
    "dic = {\n",
    "    \"nome\": [\"iPhone\", \"Samsung Galaxy\", \"Nokia\"],\n",
    "    \"valor\": [1000, 800, 200]\n",
    "}\n",
    "print(mediaPrecoCelular(dic))"
   ]
  },
  {
   "cell_type": "markdown",
   "metadata": {},
   "source": [
    "Usando Dicionário para Calcular Quadrado de Números\n",
    "Dicionários são estruturas de dados muito úteis e flexíveis, podendo, inclusive, ser construídos a partir de outras estruturas, como listas.\n",
    "\n",
    "Sabendo disso, crie uma função dicionarioQuadrados() que receba uma lista números e gera um dicionário, de forma que cada chave do dicionário seja um elemento da lista e cada valor seja este elemento ao quadrado"
   ]
  },
  {
   "cell_type": "code",
   "execution_count": 55,
   "metadata": {},
   "outputs": [
    {
     "name": "stdout",
     "output_type": "stream",
     "text": [
      "{1: 1, 2: 4, 3: 9, 4: 16, 5: 25, 6: 36, 7: 49, 8: 64, 9: 81, 10: 100}\n"
     ]
    }
   ],
   "source": [
    "def dicionarioQuadrados(listaA):\n",
    "\n",
    "    dict_data = {num: num**2 for num in listaA}\n",
    "\n",
    "    return dict_data\n",
    "\n",
    "\n",
    "teste = [1, 2, 3, 4, 5, 6, 7, 8, 9, 10]\n",
    "print(dicionarioQuadrados(teste))"
   ]
  }
 ],
 "metadata": {
  "kernelspec": {
   "display_name": "Python 3",
   "language": "python",
   "name": "python3"
  },
  "language_info": {
   "codemirror_mode": {
    "name": "ipython",
    "version": 3
   },
   "file_extension": ".py",
   "mimetype": "text/x-python",
   "name": "python",
   "nbconvert_exporter": "python",
   "pygments_lexer": "ipython3",
   "version": "3.11.5"
  },
  "orig_nbformat": 4
 },
 "nbformat": 4,
 "nbformat_minor": 2
}
